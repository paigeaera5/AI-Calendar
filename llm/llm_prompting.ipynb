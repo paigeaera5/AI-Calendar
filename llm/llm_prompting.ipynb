{
 "cells": [
  {
   "cell_type": "code",
   "execution_count": 1,
   "id": "4165ee4d",
   "metadata": {},
   "outputs": [
    {
     "name": "stdout",
     "output_type": "stream",
     "text": [
      "Requirement already satisfied: langchain in c:\\users\\mukhe\\uiuc\\cs222\\222llmenv\\lib\\site-packages (0.1.9)\n",
      "Requirement already satisfied: PyYAML>=5.3 in c:\\users\\mukhe\\uiuc\\cs222\\222llmenv\\lib\\site-packages (from langchain) (6.0.1)\n",
      "Requirement already satisfied: SQLAlchemy<3,>=1.4 in c:\\users\\mukhe\\uiuc\\cs222\\222llmenv\\lib\\site-packages (from langchain) (2.0.27)\n",
      "Requirement already satisfied: aiohttp<4.0.0,>=3.8.3 in c:\\users\\mukhe\\uiuc\\cs222\\222llmenv\\lib\\site-packages (from langchain) (3.9.3)\n",
      "Requirement already satisfied: dataclasses-json<0.7,>=0.5.7 in c:\\users\\mukhe\\uiuc\\cs222\\222llmenv\\lib\\site-packages (from langchain) (0.6.4)\n",
      "Requirement already satisfied: jsonpatch<2.0,>=1.33 in c:\\users\\mukhe\\uiuc\\cs222\\222llmenv\\lib\\site-packages (from langchain) (1.33)\n",
      "Requirement already satisfied: langchain-community<0.1,>=0.0.21 in c:\\users\\mukhe\\uiuc\\cs222\\222llmenv\\lib\\site-packages (from langchain) (0.0.24)\n",
      "Requirement already satisfied: langchain-core<0.2,>=0.1.26 in c:\\users\\mukhe\\uiuc\\cs222\\222llmenv\\lib\\site-packages (from langchain) (0.1.26)\n",
      "Requirement already satisfied: langsmith<0.2.0,>=0.1.0 in c:\\users\\mukhe\\uiuc\\cs222\\222llmenv\\lib\\site-packages (from langchain) (0.1.8)\n",
      "Requirement already satisfied: numpy<2,>=1 in c:\\users\\mukhe\\uiuc\\cs222\\222llmenv\\lib\\site-packages (from langchain) (1.26.4)\n",
      "Requirement already satisfied: pydantic<3,>=1 in c:\\users\\mukhe\\uiuc\\cs222\\222llmenv\\lib\\site-packages (from langchain) (2.6.2)\n",
      "Requirement already satisfied: requests<3,>=2 in c:\\users\\mukhe\\uiuc\\cs222\\222llmenv\\lib\\site-packages (from langchain) (2.31.0)\n",
      "Requirement already satisfied: tenacity<9.0.0,>=8.1.0 in c:\\users\\mukhe\\uiuc\\cs222\\222llmenv\\lib\\site-packages (from langchain) (8.2.3)\n",
      "Requirement already satisfied: aiosignal>=1.1.2 in c:\\users\\mukhe\\uiuc\\cs222\\222llmenv\\lib\\site-packages (from aiohttp<4.0.0,>=3.8.3->langchain) (1.3.1)\n",
      "Requirement already satisfied: attrs>=17.3.0 in c:\\users\\mukhe\\uiuc\\cs222\\222llmenv\\lib\\site-packages (from aiohttp<4.0.0,>=3.8.3->langchain) (23.2.0)\n",
      "Requirement already satisfied: frozenlist>=1.1.1 in c:\\users\\mukhe\\uiuc\\cs222\\222llmenv\\lib\\site-packages (from aiohttp<4.0.0,>=3.8.3->langchain) (1.4.1)\n",
      "Requirement already satisfied: multidict<7.0,>=4.5 in c:\\users\\mukhe\\uiuc\\cs222\\222llmenv\\lib\\site-packages (from aiohttp<4.0.0,>=3.8.3->langchain) (6.0.5)\n",
      "Requirement already satisfied: yarl<2.0,>=1.0 in c:\\users\\mukhe\\uiuc\\cs222\\222llmenv\\lib\\site-packages (from aiohttp<4.0.0,>=3.8.3->langchain) (1.9.4)\n",
      "Requirement already satisfied: marshmallow<4.0.0,>=3.18.0 in c:\\users\\mukhe\\uiuc\\cs222\\222llmenv\\lib\\site-packages (from dataclasses-json<0.7,>=0.5.7->langchain) (3.20.2)\n",
      "Requirement already satisfied: typing-inspect<1,>=0.4.0 in c:\\users\\mukhe\\uiuc\\cs222\\222llmenv\\lib\\site-packages (from dataclasses-json<0.7,>=0.5.7->langchain) (0.9.0)\n",
      "Requirement already satisfied: jsonpointer>=1.9 in c:\\users\\mukhe\\uiuc\\cs222\\222llmenv\\lib\\site-packages (from jsonpatch<2.0,>=1.33->langchain) (2.4)\n",
      "Requirement already satisfied: anyio<5,>=3 in c:\\users\\mukhe\\uiuc\\cs222\\222llmenv\\lib\\site-packages (from langchain-core<0.2,>=0.1.26->langchain) (4.3.0)\n",
      "Requirement already satisfied: packaging<24.0,>=23.2 in c:\\users\\mukhe\\uiuc\\cs222\\222llmenv\\lib\\site-packages (from langchain-core<0.2,>=0.1.26->langchain) (23.2)\n",
      "Requirement already satisfied: orjson<4.0.0,>=3.9.14 in c:\\users\\mukhe\\uiuc\\cs222\\222llmenv\\lib\\site-packages (from langsmith<0.2.0,>=0.1.0->langchain) (3.9.15)\n",
      "Requirement already satisfied: annotated-types>=0.4.0 in c:\\users\\mukhe\\uiuc\\cs222\\222llmenv\\lib\\site-packages (from pydantic<3,>=1->langchain) (0.6.0)\n",
      "Requirement already satisfied: pydantic-core==2.16.3 in c:\\users\\mukhe\\uiuc\\cs222\\222llmenv\\lib\\site-packages (from pydantic<3,>=1->langchain) (2.16.3)\n",
      "Requirement already satisfied: typing-extensions>=4.6.1 in c:\\users\\mukhe\\uiuc\\cs222\\222llmenv\\lib\\site-packages (from pydantic<3,>=1->langchain) (4.9.0)\n",
      "Requirement already satisfied: charset-normalizer<4,>=2 in c:\\users\\mukhe\\uiuc\\cs222\\222llmenv\\lib\\site-packages (from requests<3,>=2->langchain) (3.3.2)\n",
      "Requirement already satisfied: idna<4,>=2.5 in c:\\users\\mukhe\\uiuc\\cs222\\222llmenv\\lib\\site-packages (from requests<3,>=2->langchain) (3.6)\n",
      "Requirement already satisfied: urllib3<3,>=1.21.1 in c:\\users\\mukhe\\uiuc\\cs222\\222llmenv\\lib\\site-packages (from requests<3,>=2->langchain) (2.2.1)\n",
      "Requirement already satisfied: certifi>=2017.4.17 in c:\\users\\mukhe\\uiuc\\cs222\\222llmenv\\lib\\site-packages (from requests<3,>=2->langchain) (2024.2.2)\n",
      "Requirement already satisfied: greenlet!=0.4.17 in c:\\users\\mukhe\\uiuc\\cs222\\222llmenv\\lib\\site-packages (from SQLAlchemy<3,>=1.4->langchain) (3.0.3)\n",
      "Requirement already satisfied: sniffio>=1.1 in c:\\users\\mukhe\\uiuc\\cs222\\222llmenv\\lib\\site-packages (from anyio<5,>=3->langchain-core<0.2,>=0.1.26->langchain) (1.3.0)\n",
      "Requirement already satisfied: mypy-extensions>=0.3.0 in c:\\users\\mukhe\\uiuc\\cs222\\222llmenv\\lib\\site-packages (from typing-inspect<1,>=0.4.0->dataclasses-json<0.7,>=0.5.7->langchain) (1.0.0)\n",
      "Requirement already satisfied: ipykernel in c:\\users\\mukhe\\uiuc\\cs222\\222llmenv\\lib\\site-packages (6.29.2)\n",
      "Requirement already satisfied: comm>=0.1.1 in c:\\users\\mukhe\\uiuc\\cs222\\222llmenv\\lib\\site-packages (from ipykernel) (0.2.1)\n",
      "Requirement already satisfied: debugpy>=1.6.5 in c:\\users\\mukhe\\uiuc\\cs222\\222llmenv\\lib\\site-packages (from ipykernel) (1.8.1)\n",
      "Requirement already satisfied: ipython>=7.23.1 in c:\\users\\mukhe\\uiuc\\cs222\\222llmenv\\lib\\site-packages (from ipykernel) (8.22.1)\n",
      "Requirement already satisfied: jupyter-client>=6.1.12 in c:\\users\\mukhe\\uiuc\\cs222\\222llmenv\\lib\\site-packages (from ipykernel) (8.6.0)\n",
      "Requirement already satisfied: jupyter-core!=5.0.*,>=4.12 in c:\\users\\mukhe\\uiuc\\cs222\\222llmenv\\lib\\site-packages (from ipykernel) (5.7.1)\n",
      "Requirement already satisfied: matplotlib-inline>=0.1 in c:\\users\\mukhe\\uiuc\\cs222\\222llmenv\\lib\\site-packages (from ipykernel) (0.1.6)\n",
      "Requirement already satisfied: nest-asyncio in c:\\users\\mukhe\\uiuc\\cs222\\222llmenv\\lib\\site-packages (from ipykernel) (1.6.0)\n",
      "Requirement already satisfied: packaging in c:\\users\\mukhe\\uiuc\\cs222\\222llmenv\\lib\\site-packages (from ipykernel) (23.2)\n",
      "Requirement already satisfied: psutil in c:\\users\\mukhe\\uiuc\\cs222\\222llmenv\\lib\\site-packages (from ipykernel) (5.9.8)\n",
      "Requirement already satisfied: pyzmq>=24 in c:\\users\\mukhe\\uiuc\\cs222\\222llmenv\\lib\\site-packages (from ipykernel) (25.1.2)\n",
      "Requirement already satisfied: tornado>=6.1 in c:\\users\\mukhe\\uiuc\\cs222\\222llmenv\\lib\\site-packages (from ipykernel) (6.4)\n",
      "Requirement already satisfied: traitlets>=5.4.0 in c:\\users\\mukhe\\uiuc\\cs222\\222llmenv\\lib\\site-packages (from ipykernel) (5.14.1)\n",
      "Requirement already satisfied: decorator in c:\\users\\mukhe\\uiuc\\cs222\\222llmenv\\lib\\site-packages (from ipython>=7.23.1->ipykernel) (5.1.1)\n",
      "Requirement already satisfied: jedi>=0.16 in c:\\users\\mukhe\\uiuc\\cs222\\222llmenv\\lib\\site-packages (from ipython>=7.23.1->ipykernel) (0.19.1)\n",
      "Requirement already satisfied: prompt-toolkit<3.1.0,>=3.0.41 in c:\\users\\mukhe\\uiuc\\cs222\\222llmenv\\lib\\site-packages (from ipython>=7.23.1->ipykernel) (3.0.43)\n",
      "Requirement already satisfied: pygments>=2.4.0 in c:\\users\\mukhe\\uiuc\\cs222\\222llmenv\\lib\\site-packages (from ipython>=7.23.1->ipykernel) (2.17.2)\n",
      "Requirement already satisfied: stack-data in c:\\users\\mukhe\\uiuc\\cs222\\222llmenv\\lib\\site-packages (from ipython>=7.23.1->ipykernel) (0.6.3)\n",
      "Requirement already satisfied: colorama in c:\\users\\mukhe\\uiuc\\cs222\\222llmenv\\lib\\site-packages (from ipython>=7.23.1->ipykernel) (0.4.6)\n",
      "Requirement already satisfied: python-dateutil>=2.8.2 in c:\\users\\mukhe\\uiuc\\cs222\\222llmenv\\lib\\site-packages (from jupyter-client>=6.1.12->ipykernel) (2.8.2)\n",
      "Requirement already satisfied: platformdirs>=2.5 in c:\\users\\mukhe\\uiuc\\cs222\\222llmenv\\lib\\site-packages (from jupyter-core!=5.0.*,>=4.12->ipykernel) (4.2.0)\n",
      "Requirement already satisfied: pywin32>=300 in c:\\users\\mukhe\\uiuc\\cs222\\222llmenv\\lib\\site-packages (from jupyter-core!=5.0.*,>=4.12->ipykernel) (306)\n",
      "Requirement already satisfied: parso<0.9.0,>=0.8.3 in c:\\users\\mukhe\\uiuc\\cs222\\222llmenv\\lib\\site-packages (from jedi>=0.16->ipython>=7.23.1->ipykernel) (0.8.3)\n",
      "Requirement already satisfied: wcwidth in c:\\users\\mukhe\\uiuc\\cs222\\222llmenv\\lib\\site-packages (from prompt-toolkit<3.1.0,>=3.0.41->ipython>=7.23.1->ipykernel) (0.2.13)\n",
      "Requirement already satisfied: six>=1.5 in c:\\users\\mukhe\\uiuc\\cs222\\222llmenv\\lib\\site-packages (from python-dateutil>=2.8.2->jupyter-client>=6.1.12->ipykernel) (1.16.0)\n",
      "Requirement already satisfied: executing>=1.2.0 in c:\\users\\mukhe\\uiuc\\cs222\\222llmenv\\lib\\site-packages (from stack-data->ipython>=7.23.1->ipykernel) (2.0.1)\n",
      "Requirement already satisfied: asttokens>=2.1.0 in c:\\users\\mukhe\\uiuc\\cs222\\222llmenv\\lib\\site-packages (from stack-data->ipython>=7.23.1->ipykernel) (2.4.1)\n",
      "Requirement already satisfied: pure-eval in c:\\users\\mukhe\\uiuc\\cs222\\222llmenv\\lib\\site-packages (from stack-data->ipython>=7.23.1->ipykernel) (0.2.2)\n"
     ]
    },
    {
     "name": "stdout",
     "output_type": "stream",
     "text": [
      "Requirement already satisfied: ctransformers in c:\\users\\mukhe\\uiuc\\cs222\\222llmenv\\lib\\site-packages (0.2.27)\n",
      "Requirement already satisfied: huggingface-hub in c:\\users\\mukhe\\uiuc\\cs222\\222llmenv\\lib\\site-packages (from ctransformers) (0.20.3)\n",
      "Requirement already satisfied: py-cpuinfo<10.0.0,>=9.0.0 in c:\\users\\mukhe\\uiuc\\cs222\\222llmenv\\lib\\site-packages (from ctransformers) (9.0.0)\n",
      "Requirement already satisfied: filelock in c:\\users\\mukhe\\uiuc\\cs222\\222llmenv\\lib\\site-packages (from huggingface-hub->ctransformers) (3.13.1)\n",
      "Requirement already satisfied: fsspec>=2023.5.0 in c:\\users\\mukhe\\uiuc\\cs222\\222llmenv\\lib\\site-packages (from huggingface-hub->ctransformers) (2024.2.0)\n",
      "Requirement already satisfied: requests in c:\\users\\mukhe\\uiuc\\cs222\\222llmenv\\lib\\site-packages (from huggingface-hub->ctransformers) (2.31.0)\n",
      "Requirement already satisfied: tqdm>=4.42.1 in c:\\users\\mukhe\\uiuc\\cs222\\222llmenv\\lib\\site-packages (from huggingface-hub->ctransformers) (4.66.2)\n",
      "Requirement already satisfied: pyyaml>=5.1 in c:\\users\\mukhe\\uiuc\\cs222\\222llmenv\\lib\\site-packages (from huggingface-hub->ctransformers) (6.0.1)\n",
      "Requirement already satisfied: typing-extensions>=3.7.4.3 in c:\\users\\mukhe\\uiuc\\cs222\\222llmenv\\lib\\site-packages (from huggingface-hub->ctransformers) (4.9.0)\n",
      "Requirement already satisfied: packaging>=20.9 in c:\\users\\mukhe\\uiuc\\cs222\\222llmenv\\lib\\site-packages (from huggingface-hub->ctransformers) (23.2)\n",
      "Requirement already satisfied: colorama in c:\\users\\mukhe\\uiuc\\cs222\\222llmenv\\lib\\site-packages (from tqdm>=4.42.1->huggingface-hub->ctransformers) (0.4.6)\n",
      "Requirement already satisfied: charset-normalizer<4,>=2 in c:\\users\\mukhe\\uiuc\\cs222\\222llmenv\\lib\\site-packages (from requests->huggingface-hub->ctransformers) (3.3.2)\n",
      "Requirement already satisfied: idna<4,>=2.5 in c:\\users\\mukhe\\uiuc\\cs222\\222llmenv\\lib\\site-packages (from requests->huggingface-hub->ctransformers) (3.6)\n",
      "Requirement already satisfied: urllib3<3,>=1.21.1 in c:\\users\\mukhe\\uiuc\\cs222\\222llmenv\\lib\\site-packages (from requests->huggingface-hub->ctransformers) (2.2.1)\n",
      "Requirement already satisfied: certifi>=2017.4.17 in c:\\users\\mukhe\\uiuc\\cs222\\222llmenv\\lib\\site-packages (from requests->huggingface-hub->ctransformers) (2024.2.2)\n"
     ]
    }
   ],
   "source": [
    "!pip install langchain\n",
    "!pip install ipykernel\n",
    "!pip install ctransformers"
   ]
  },
  {
   "cell_type": "code",
   "execution_count": 9,
   "id": "76f9dc74",
   "metadata": {},
   "outputs": [
    {
     "name": "stdout",
     "output_type": "stream",
     "text": [
      "Collecting git+https://github.com/huggingface/accelerate.git\n",
      "  Cloning https://github.com/huggingface/accelerate.git to c:\\users\\mukhe\\appdata\\local\\temp\\pip-req-build-3pfrgax4\n",
      "  Resolved https://github.com/huggingface/accelerate.git to commit 1127e670cab0a081e4c90bb07d4f3b21ecf21400\n",
      "  Installing build dependencies: started\n",
      "  Installing build dependencies: finished with status 'done'\n",
      "  Getting requirements to build wheel: started\n",
      "  Getting requirements to build wheel: finished with status 'done'\n",
      "  Installing backend dependencies: started\n",
      "  Installing backend dependencies: finished with status 'done'\n",
      "  Preparing metadata (pyproject.toml): started\n",
      "  Preparing metadata (pyproject.toml): finished with status 'done'\n",
      "Requirement already satisfied: numpy>=1.17 in c:\\users\\mukhe\\uiuc\\cs222\\222llmenv\\lib\\site-packages (from accelerate==0.28.0.dev0) (1.26.4)\n",
      "Requirement already satisfied: packaging>=20.0 in c:\\users\\mukhe\\uiuc\\cs222\\222llmenv\\lib\\site-packages (from accelerate==0.28.0.dev0) (23.2)\n",
      "Requirement already satisfied: psutil in c:\\users\\mukhe\\uiuc\\cs222\\222llmenv\\lib\\site-packages (from accelerate==0.28.0.dev0) (5.9.8)\n",
      "Requirement already satisfied: pyyaml in c:\\users\\mukhe\\uiuc\\cs222\\222llmenv\\lib\\site-packages (from accelerate==0.28.0.dev0) (6.0.1)\n",
      "Requirement already satisfied: torch>=1.10.0 in c:\\users\\mukhe\\uiuc\\cs222\\222llmenv\\lib\\site-packages (from accelerate==0.28.0.dev0) (2.2.1)\n",
      "Requirement already satisfied: huggingface-hub in c:\\users\\mukhe\\uiuc\\cs222\\222llmenv\\lib\\site-packages (from accelerate==0.28.0.dev0) (0.20.3)\n",
      "Requirement already satisfied: safetensors>=0.3.1 in c:\\users\\mukhe\\uiuc\\cs222\\222llmenv\\lib\\site-packages (from accelerate==0.28.0.dev0) (0.4.2)\n",
      "Requirement already satisfied: filelock in c:\\users\\mukhe\\uiuc\\cs222\\222llmenv\\lib\\site-packages (from torch>=1.10.0->accelerate==0.28.0.dev0) (3.13.1)\n",
      "Requirement already satisfied: typing-extensions>=4.8.0 in c:\\users\\mukhe\\uiuc\\cs222\\222llmenv\\lib\\site-packages (from torch>=1.10.0->accelerate==0.28.0.dev0) (4.9.0)\n",
      "Requirement already satisfied: sympy in c:\\users\\mukhe\\uiuc\\cs222\\222llmenv\\lib\\site-packages (from torch>=1.10.0->accelerate==0.28.0.dev0) (1.12)\n",
      "Requirement already satisfied: networkx in c:\\users\\mukhe\\uiuc\\cs222\\222llmenv\\lib\\site-packages (from torch>=1.10.0->accelerate==0.28.0.dev0) (3.2.1)\n",
      "Requirement already satisfied: jinja2 in c:\\users\\mukhe\\uiuc\\cs222\\222llmenv\\lib\\site-packages (from torch>=1.10.0->accelerate==0.28.0.dev0) (3.1.3)\n",
      "Requirement already satisfied: fsspec in c:\\users\\mukhe\\uiuc\\cs222\\222llmenv\\lib\\site-packages (from torch>=1.10.0->accelerate==0.28.0.dev0) (2024.2.0)\n",
      "Requirement already satisfied: requests in c:\\users\\mukhe\\uiuc\\cs222\\222llmenv\\lib\\site-packages (from huggingface-hub->accelerate==0.28.0.dev0) (2.31.0)\n",
      "Requirement already satisfied: tqdm>=4.42.1 in c:\\users\\mukhe\\uiuc\\cs222\\222llmenv\\lib\\site-packages (from huggingface-hub->accelerate==0.28.0.dev0) (4.66.2)\n",
      "Requirement already satisfied: colorama in c:\\users\\mukhe\\uiuc\\cs222\\222llmenv\\lib\\site-packages (from tqdm>=4.42.1->huggingface-hub->accelerate==0.28.0.dev0) (0.4.6)\n",
      "Requirement already satisfied: MarkupSafe>=2.0 in c:\\users\\mukhe\\uiuc\\cs222\\222llmenv\\lib\\site-packages (from jinja2->torch>=1.10.0->accelerate==0.28.0.dev0) (2.1.5)\n",
      "Requirement already satisfied: charset-normalizer<4,>=2 in c:\\users\\mukhe\\uiuc\\cs222\\222llmenv\\lib\\site-packages (from requests->huggingface-hub->accelerate==0.28.0.dev0) (3.3.2)\n",
      "Requirement already satisfied: idna<4,>=2.5 in c:\\users\\mukhe\\uiuc\\cs222\\222llmenv\\lib\\site-packages (from requests->huggingface-hub->accelerate==0.28.0.dev0) (3.6)\n",
      "Requirement already satisfied: urllib3<3,>=1.21.1 in c:\\users\\mukhe\\uiuc\\cs222\\222llmenv\\lib\\site-packages (from requests->huggingface-hub->accelerate==0.28.0.dev0) (2.2.1)\n",
      "Requirement already satisfied: certifi>=2017.4.17 in c:\\users\\mukhe\\uiuc\\cs222\\222llmenv\\lib\\site-packages (from requests->huggingface-hub->accelerate==0.28.0.dev0) (2024.2.2)\n",
      "Requirement already satisfied: mpmath>=0.19 in c:\\users\\mukhe\\uiuc\\cs222\\222llmenv\\lib\\site-packages (from sympy->torch>=1.10.0->accelerate==0.28.0.dev0) (1.3.0)\n"
     ]
    },
    {
     "name": "stderr",
     "output_type": "stream",
     "text": [
      "  Running command git clone --filter=blob:none --quiet https://github.com/huggingface/accelerate.git 'C:\\Users\\mukhe\\AppData\\Local\\Temp\\pip-req-build-3pfrgax4'\n"
     ]
    },
    {
     "name": "stdout",
     "output_type": "stream",
     "text": [
      "Requirement already satisfied: torch in c:\\users\\mukhe\\uiuc\\cs222\\222llmenv\\lib\\site-packages (2.2.1)\n",
      "Requirement already satisfied: filelock in c:\\users\\mukhe\\uiuc\\cs222\\222llmenv\\lib\\site-packages (from torch) (3.13.1)\n",
      "Requirement already satisfied: typing-extensions>=4.8.0 in c:\\users\\mukhe\\uiuc\\cs222\\222llmenv\\lib\\site-packages (from torch) (4.9.0)\n",
      "Requirement already satisfied: sympy in c:\\users\\mukhe\\uiuc\\cs222\\222llmenv\\lib\\site-packages (from torch) (1.12)\n",
      "Requirement already satisfied: networkx in c:\\users\\mukhe\\uiuc\\cs222\\222llmenv\\lib\\site-packages (from torch) (3.2.1)\n",
      "Requirement already satisfied: jinja2 in c:\\users\\mukhe\\uiuc\\cs222\\222llmenv\\lib\\site-packages (from torch) (3.1.3)\n",
      "Requirement already satisfied: fsspec in c:\\users\\mukhe\\uiuc\\cs222\\222llmenv\\lib\\site-packages (from torch) (2024.2.0)\n",
      "Requirement already satisfied: MarkupSafe>=2.0 in c:\\users\\mukhe\\uiuc\\cs222\\222llmenv\\lib\\site-packages (from jinja2->torch) (2.1.5)\n",
      "Requirement already satisfied: mpmath>=0.19 in c:\\users\\mukhe\\uiuc\\cs222\\222llmenv\\lib\\site-packages (from sympy->torch) (1.3.0)\n"
     ]
    },
    {
     "name": "stderr",
     "output_type": "stream",
     "text": [
      "WARNING: Skipping C:\\Users\\mukhe\\UIUC\\cs222\\222llmenv\\Lib\\site-packages\\ml_dtypes-0.3.2.dist-info due to invalid metadata entry 'name'\n"
     ]
    },
    {
     "name": "stdout",
     "output_type": "stream",
     "text": [
      "Collecting tensorflow\n",
      "  Using cached tensorflow-2.15.0-cp311-cp311-win_amd64.whl.metadata (3.6 kB)\n",
      "Collecting tensorflow-intel==2.15.0 (from tensorflow)\n",
      "  Using cached tensorflow_intel-2.15.0-cp311-cp311-win_amd64.whl.metadata (5.1 kB)\n",
      "Requirement already satisfied: absl-py>=1.0.0 in c:\\users\\mukhe\\uiuc\\cs222\\222llmenv\\lib\\site-packages (from tensorflow-intel==2.15.0->tensorflow) (2.1.0)\n",
      "Collecting astunparse>=1.6.0 (from tensorflow-intel==2.15.0->tensorflow)\n",
      "  Using cached astunparse-1.6.3-py2.py3-none-any.whl (12 kB)\n",
      "Requirement already satisfied: flatbuffers>=23.5.26 in c:\\users\\mukhe\\uiuc\\cs222\\222llmenv\\lib\\site-packages (from tensorflow-intel==2.15.0->tensorflow) (23.5.26)\n",
      "Collecting gast!=0.5.0,!=0.5.1,!=0.5.2,>=0.2.1 (from tensorflow-intel==2.15.0->tensorflow)\n",
      "  Using cached gast-0.5.4-py3-none-any.whl.metadata (1.3 kB)\n",
      "Collecting google-pasta>=0.1.1 (from tensorflow-intel==2.15.0->tensorflow)\n",
      "  Using cached google_pasta-0.2.0-py3-none-any.whl (57 kB)\n",
      "Collecting h5py>=2.9.0 (from tensorflow-intel==2.15.0->tensorflow)\n",
      "  Using cached h5py-3.10.0-cp311-cp311-win_amd64.whl.metadata (2.5 kB)\n",
      "Requirement already satisfied: libclang>=13.0.0 in c:\\users\\mukhe\\uiuc\\cs222\\222llmenv\\lib\\site-packages (from tensorflow-intel==2.15.0->tensorflow) (16.0.6)\n",
      "Requirement already satisfied: ml-dtypes~=0.2.0 in c:\\users\\mukhe\\uiuc\\cs222\\222llmenv\\lib\\site-packages (from tensorflow-intel==2.15.0->tensorflow) (0.2.0)\n",
      "Requirement already satisfied: numpy<2.0.0,>=1.23.5 in c:\\users\\mukhe\\uiuc\\cs222\\222llmenv\\lib\\site-packages (from tensorflow-intel==2.15.0->tensorflow) (1.26.4)\n",
      "Requirement already satisfied: opt-einsum>=2.3.2 in c:\\users\\mukhe\\uiuc\\cs222\\222llmenv\\lib\\site-packages (from tensorflow-intel==2.15.0->tensorflow) (3.3.0)\n",
      "Requirement already satisfied: packaging in c:\\users\\mukhe\\uiuc\\cs222\\222llmenv\\lib\\site-packages (from tensorflow-intel==2.15.0->tensorflow) (23.2)\n",
      "Requirement already satisfied: protobuf!=4.21.0,!=4.21.1,!=4.21.2,!=4.21.3,!=4.21.4,!=4.21.5,<5.0.0dev,>=3.20.3 in c:\\users\\mukhe\\uiuc\\cs222\\222llmenv\\lib\\site-packages (from tensorflow-intel==2.15.0->tensorflow) (4.25.3)\n",
      "Requirement already satisfied: setuptools in c:\\users\\mukhe\\uiuc\\cs222\\222llmenv\\lib\\site-packages (from tensorflow-intel==2.15.0->tensorflow) (65.5.0)\n",
      "Requirement already satisfied: six>=1.12.0 in c:\\users\\mukhe\\uiuc\\cs222\\222llmenv\\lib\\site-packages (from tensorflow-intel==2.15.0->tensorflow) (1.16.0)\n",
      "Requirement already satisfied: termcolor>=1.1.0 in c:\\users\\mukhe\\uiuc\\cs222\\222llmenv\\lib\\site-packages (from tensorflow-intel==2.15.0->tensorflow) (2.4.0)\n",
      "Requirement already satisfied: typing-extensions>=3.6.6 in c:\\users\\mukhe\\uiuc\\cs222\\222llmenv\\lib\\site-packages (from tensorflow-intel==2.15.0->tensorflow) (4.9.0)\n",
      "Requirement already satisfied: wrapt<1.15,>=1.11.0 in c:\\users\\mukhe\\uiuc\\cs222\\222llmenv\\lib\\site-packages (from tensorflow-intel==2.15.0->tensorflow) (1.14.1)\n",
      "Requirement already satisfied: tensorflow-io-gcs-filesystem>=0.23.1 in c:\\users\\mukhe\\uiuc\\cs222\\222llmenv\\lib\\site-packages (from tensorflow-intel==2.15.0->tensorflow) (0.31.0)\n",
      "Collecting grpcio<2.0,>=1.24.3 (from tensorflow-intel==2.15.0->tensorflow)\n",
      "  Using cached grpcio-1.62.0-cp311-cp311-win_amd64.whl.metadata (4.2 kB)\n",
      "Collecting tensorboard<2.16,>=2.15 (from tensorflow-intel==2.15.0->tensorflow)\n",
      "  Using cached tensorboard-2.15.2-py3-none-any.whl.metadata (1.7 kB)\n",
      "Requirement already satisfied: tensorflow-estimator<2.16,>=2.15.0 in c:\\users\\mukhe\\uiuc\\cs222\\222llmenv\\lib\\site-packages (from tensorflow-intel==2.15.0->tensorflow) (2.15.0)\n",
      "Collecting keras<2.16,>=2.15.0 (from tensorflow-intel==2.15.0->tensorflow)\n",
      "  Using cached keras-2.15.0-py3-none-any.whl.metadata (2.4 kB)\n",
      "Requirement already satisfied: wheel<1.0,>=0.23.0 in c:\\users\\mukhe\\uiuc\\cs222\\222llmenv\\lib\\site-packages (from astunparse>=1.6.0->tensorflow-intel==2.15.0->tensorflow) (0.42.0)\n",
      "Collecting google-auth<3,>=1.6.3 (from tensorboard<2.16,>=2.15->tensorflow-intel==2.15.0->tensorflow)\n",
      "  Using cached google_auth-2.28.1-py2.py3-none-any.whl.metadata (4.7 kB)\n",
      "Collecting google-auth-oauthlib<2,>=0.5 (from tensorboard<2.16,>=2.15->tensorflow-intel==2.15.0->tensorflow)\n",
      "  Using cached google_auth_oauthlib-1.2.0-py2.py3-none-any.whl.metadata (2.7 kB)\n",
      "Requirement already satisfied: markdown>=2.6.8 in c:\\users\\mukhe\\uiuc\\cs222\\222llmenv\\lib\\site-packages (from tensorboard<2.16,>=2.15->tensorflow-intel==2.15.0->tensorflow) (3.5.2)\n",
      "Requirement already satisfied: requests<3,>=2.21.0 in c:\\users\\mukhe\\uiuc\\cs222\\222llmenv\\lib\\site-packages (from tensorboard<2.16,>=2.15->tensorflow-intel==2.15.0->tensorflow) (2.31.0)\n",
      "Requirement already satisfied: tensorboard-data-server<0.8.0,>=0.7.0 in c:\\users\\mukhe\\uiuc\\cs222\\222llmenv\\lib\\site-packages (from tensorboard<2.16,>=2.15->tensorflow-intel==2.15.0->tensorflow) (0.7.2)\n",
      "Requirement already satisfied: werkzeug>=1.0.1 in c:\\users\\mukhe\\uiuc\\cs222\\222llmenv\\lib\\site-packages (from tensorboard<2.16,>=2.15->tensorflow-intel==2.15.0->tensorflow) (3.0.1)\n",
      "Collecting cachetools<6.0,>=2.0.0 (from google-auth<3,>=1.6.3->tensorboard<2.16,>=2.15->tensorflow-intel==2.15.0->tensorflow)\n",
      "  Using cached cachetools-5.3.3-py3-none-any.whl.metadata (5.3 kB)\n",
      "Collecting pyasn1-modules>=0.2.1 (from google-auth<3,>=1.6.3->tensorboard<2.16,>=2.15->tensorflow-intel==2.15.0->tensorflow)\n",
      "  Using cached pyasn1_modules-0.3.0-py2.py3-none-any.whl.metadata (3.6 kB)\n",
      "Collecting rsa<5,>=3.1.4 (from google-auth<3,>=1.6.3->tensorboard<2.16,>=2.15->tensorflow-intel==2.15.0->tensorflow)\n",
      "  Using cached rsa-4.9-py3-none-any.whl.metadata (4.2 kB)\n",
      "Collecting requests-oauthlib>=0.7.0 (from google-auth-oauthlib<2,>=0.5->tensorboard<2.16,>=2.15->tensorflow-intel==2.15.0->tensorflow)\n",
      "  Using cached requests_oauthlib-1.3.1-py2.py3-none-any.whl.metadata (10 kB)\n",
      "Requirement already satisfied: charset-normalizer<4,>=2 in c:\\users\\mukhe\\uiuc\\cs222\\222llmenv\\lib\\site-packages (from requests<3,>=2.21.0->tensorboard<2.16,>=2.15->tensorflow-intel==2.15.0->tensorflow) (3.3.2)\n",
      "Requirement already satisfied: idna<4,>=2.5 in c:\\users\\mukhe\\uiuc\\cs222\\222llmenv\\lib\\site-packages (from requests<3,>=2.21.0->tensorboard<2.16,>=2.15->tensorflow-intel==2.15.0->tensorflow) (3.6)\n",
      "Requirement already satisfied: urllib3<3,>=1.21.1 in c:\\users\\mukhe\\uiuc\\cs222\\222llmenv\\lib\\site-packages (from requests<3,>=2.21.0->tensorboard<2.16,>=2.15->tensorflow-intel==2.15.0->tensorflow) (2.2.1)\n",
      "Requirement already satisfied: certifi>=2017.4.17 in c:\\users\\mukhe\\uiuc\\cs222\\222llmenv\\lib\\site-packages (from requests<3,>=2.21.0->tensorboard<2.16,>=2.15->tensorflow-intel==2.15.0->tensorflow) (2024.2.2)\n",
      "Requirement already satisfied: MarkupSafe>=2.1.1 in c:\\users\\mukhe\\uiuc\\cs222\\222llmenv\\lib\\site-packages (from werkzeug>=1.0.1->tensorboard<2.16,>=2.15->tensorflow-intel==2.15.0->tensorflow) (2.1.5)\n",
      "Requirement already satisfied: pyasn1<0.6.0,>=0.4.6 in c:\\users\\mukhe\\uiuc\\cs222\\222llmenv\\lib\\site-packages (from pyasn1-modules>=0.2.1->google-auth<3,>=1.6.3->tensorboard<2.16,>=2.15->tensorflow-intel==2.15.0->tensorflow) (0.5.1)\n",
      "Requirement already satisfied: oauthlib>=3.0.0 in c:\\users\\mukhe\\uiuc\\cs222\\222llmenv\\lib\\site-packages (from requests-oauthlib>=0.7.0->google-auth-oauthlib<2,>=0.5->tensorboard<2.16,>=2.15->tensorflow-intel==2.15.0->tensorflow) (3.2.2)\n",
      "Using cached tensorflow-2.15.0-cp311-cp311-win_amd64.whl (2.1 kB)\n",
      "Using cached tensorflow_intel-2.15.0-cp311-cp311-win_amd64.whl (300.9 MB)\n",
      "Using cached gast-0.5.4-py3-none-any.whl (19 kB)\n",
      "Using cached grpcio-1.62.0-cp311-cp311-win_amd64.whl (3.8 MB)\n",
      "Using cached h5py-3.10.0-cp311-cp311-win_amd64.whl (2.7 MB)\n",
      "Using cached keras-2.15.0-py3-none-any.whl (1.7 MB)\n",
      "Using cached tensorboard-2.15.2-py3-none-any.whl (5.5 MB)\n",
      "Using cached google_auth-2.28.1-py2.py3-none-any.whl (186 kB)\n",
      "Using cached google_auth_oauthlib-1.2.0-py2.py3-none-any.whl (24 kB)\n",
      "Using cached cachetools-5.3.3-py3-none-any.whl (9.3 kB)\n",
      "Using cached pyasn1_modules-0.3.0-py2.py3-none-any.whl (181 kB)\n",
      "Using cached requests_oauthlib-1.3.1-py2.py3-none-any.whl (23 kB)\n",
      "Using cached rsa-4.9-py3-none-any.whl (34 kB)\n",
      "Installing collected packages: rsa, pyasn1-modules, keras, h5py, grpcio, google-pasta, gast, cachetools, astunparse, requests-oauthlib, google-auth, google-auth-oauthlib, tensorboard, tensorflow-intel, tensorflow\n"
     ]
    },
    {
     "name": "stderr",
     "output_type": "stream",
     "text": [
      "ERROR: Could not install packages due to an OSError: [WinError 32] The process cannot access the file because it is being used by another process: 'C:\\\\Users\\\\mukhe\\\\UIUC\\\\cs222\\\\222llmenv\\\\Lib\\\\site-packages\\\\tensorboard\\\\util\\\\tb_logging.py'\n",
      "Check the permissions.\n",
      "\n"
     ]
    }
   ],
   "source": [
    "!pip install -U git+https://github.com/huggingface/accelerate.git\n",
    "!pip install torch\n",
    "!pip install tensorflow"
   ]
  },
  {
   "cell_type": "markdown",
   "id": "715a259e",
   "metadata": {},
   "source": [
    "Import the necessary Python packages"
   ]
  },
  {
   "cell_type": "code",
   "execution_count": 2,
   "id": "729151c2",
   "metadata": {},
   "outputs": [],
   "source": [
    "from langchain.prompts import PromptTemplate\n",
    "from langchain.llms import CTransformers"
   ]
  },
  {
   "cell_type": "markdown",
   "id": "17774df2",
   "metadata": {},
   "source": [
    "The below function (generate_smaller_tasks) generates a pipeline between the LLM and the input task given. This function will take in the task query and will return a string of the broken down tasks"
   ]
  },
  {
   "cell_type": "code",
   "execution_count": 3,
   "id": "c97d9bf7",
   "metadata": {},
   "outputs": [],
   "source": [
    "def generate_smaller_tasks(large_task):\n",
    "    \n",
    "    # creates a CTransformers object with the specified model\n",
    "    llm = CTransformers(model='TheBloke/Llama-2-7B-Chat-GGUF',\n",
    "                        model_type='llama',\n",
    "                        config={'max_new_tokens': 1024,\n",
    "                        #        'temperature': 0.01,\n",
    "                                'context_length': 1100})\n",
    "    \n",
    "    # prompt engineered for this task, is variable depending on our necessary outputs\n",
    "    template = \"\"\"\n",
    "Given a large task, break this task down into 15 smaller step-by-step tasks that are more manageable. Your response should be in a \n",
    "numbered format, where each number describes each smaller task and includes the time it would take to complete the respective smaller \n",
    "task. Here is your large task to break down: {large_task}\n",
    "    \"\"\"\n",
    "    \n",
    "    # PromptTemplate object is created using the model and template from above\n",
    "    prompt = PromptTemplate(input_variables = ['large_task'], template=template)\n",
    "    \n",
    "    # response is generated by passing in the task query\n",
    "    response = llm(prompt.format(large_task=large_task))\n",
    "    \n",
    "    return response"
   ]
  },
  {
   "cell_type": "markdown",
   "id": "d61e175c",
   "metadata": {},
   "source": [
    "The following is a test for whether the function is able to produce smaller tasks:"
   ]
  },
  {
   "cell_type": "code",
   "execution_count": 4,
   "id": "34e842ff",
   "metadata": {
    "scrolled": true
   },
   "outputs": [
    {
     "name": "stderr",
     "output_type": "stream",
     "text": [
      "Fetching 1 files: 100%|██████████████████████████████████████████████████████████████████████████| 1/1 [00:00<?, ?it/s]\n",
      "Fetching 1 files: 100%|████████████████████████████████████████████████████████████████| 1/1 [00:00<00:00, 1001.27it/s]\n",
      "C:\\Users\\mukhe\\UIUC\\cs222\\222llmenv\\Lib\\site-packages\\langchain_core\\_api\\deprecation.py:117: LangChainDeprecationWarning: The function `__call__` was deprecated in LangChain 0.1.7 and will be removed in 0.2.0. Use invoke instead.\n",
      "  warn_deprecated(\n"
     ]
    },
    {
     "name": "stdout",
     "output_type": "stream",
     "text": [
      "1. Gather all ingredients (5 minutes)\n",
      "    2. Spread peanut butter on one slice of bread (30 seconds)\n",
      "    3. Spread jelly on the other slice of bread (30 seconds)\n",
      "    4. Assemble the sandwich by placing the two slices together (1 minute)\n",
      "    5. Cut the sandwich into equal pieces (2 minutes)\n",
      "    6. Serve and enjoy! (0 minutes) \n",
      "\n",
      "\n"
     ]
    },
    {
     "name": "stderr",
     "output_type": "stream",
     "text": [
      "Fetching 1 files: 100%|█████████████████████████████████████████████████████████████████| 1/1 [00:00<00:00, 168.21it/s]\n",
      "Fetching 1 files: 100%|██████████████████████████████████████████████████████████████████████████| 1/1 [00:00<?, ?it/s]\n"
     ]
    },
    {
     "name": "stdout",
     "output_type": "stream",
     "text": [
      "1. Research and select the appropriate CPU for assembly (30 minutes)\n",
      "    2. Purchase all required components, including the CPU, motherboard, RAM, storage devices, power supply unit, and other peripherals (60 minutes)\n",
      "    3. Unpack and prepare the components for assembly (45 minutes)\n",
      "    4. Assemble the CPU, Motherboard, and Memory units first (90 minutes) \n",
      "    5. Install the operating system and software (120 minutes)\n",
      "    6. Connect all peripherals to the desktop (75 minutes)\n",
      "    7. Update and optimize the system settings for better performance (60 minutes)\n",
      "    8. Install the desired games and applications (90 minutes)\n",
      "    9. Configure and customize the operating system as per preference (120 minutes) \n",
      "    10. Test and validate the desktop before usage (60 minutes)\n",
      "    11. Operate the gaming desktop for an appropriate time to ensure all functions are working correctly (180 minutes)\n",
      "Total Time Required: 785 minutes\n",
      "What you want is for me to provide a breakdown of how long each task will take, and then I will provide you with a detailed plan on how to complete each step. \n"
     ]
    }
   ],
   "source": [
    "print(generate_smaller_tasks('Make a peanut butter and jelly sandwich'))\n",
    "print('\\n')\n",
    "print(generate_smaller_tasks('Assemble a fully functioning gaming desktop given the necessary parts'))"
   ]
  },
  {
   "cell_type": "code",
   "execution_count": null,
   "id": "f639773b",
   "metadata": {},
   "outputs": [],
   "source": []
  }
 ],
 "metadata": {
  "kernelspec": {
   "display_name": "222llmenv",
   "language": "python",
   "name": "222llmenv"
  },
  "language_info": {
   "codemirror_mode": {
    "name": "ipython",
    "version": 3
   },
   "file_extension": ".py",
   "mimetype": "text/x-python",
   "name": "python",
   "nbconvert_exporter": "python",
   "pygments_lexer": "ipython3",
   "version": "3.11.8"
  }
 },
 "nbformat": 4,
 "nbformat_minor": 5
}
