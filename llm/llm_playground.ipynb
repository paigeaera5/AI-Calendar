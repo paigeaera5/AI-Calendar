{
 "cells": [
  {
   "cell_type": "code",
   "execution_count": 1,
   "id": "4165ee4d",
   "metadata": {},
   "outputs": [
    {
     "name": "stdout",
     "output_type": "stream",
     "text": [
      "Requirement already satisfied: langchain in c:\\users\\mukhe\\uiuc\\cs222\\222llmenv\\lib\\site-packages (0.1.9)\n",
      "Requirement already satisfied: PyYAML>=5.3 in c:\\users\\mukhe\\uiuc\\cs222\\222llmenv\\lib\\site-packages (from langchain) (6.0.1)\n",
      "Requirement already satisfied: SQLAlchemy<3,>=1.4 in c:\\users\\mukhe\\uiuc\\cs222\\222llmenv\\lib\\site-packages (from langchain) (2.0.27)\n",
      "Requirement already satisfied: aiohttp<4.0.0,>=3.8.3 in c:\\users\\mukhe\\uiuc\\cs222\\222llmenv\\lib\\site-packages (from langchain) (3.9.3)\n",
      "Requirement already satisfied: dataclasses-json<0.7,>=0.5.7 in c:\\users\\mukhe\\uiuc\\cs222\\222llmenv\\lib\\site-packages (from langchain) (0.6.4)\n",
      "Requirement already satisfied: jsonpatch<2.0,>=1.33 in c:\\users\\mukhe\\uiuc\\cs222\\222llmenv\\lib\\site-packages (from langchain) (1.33)\n",
      "Requirement already satisfied: langchain-community<0.1,>=0.0.21 in c:\\users\\mukhe\\uiuc\\cs222\\222llmenv\\lib\\site-packages (from langchain) (0.0.24)\n",
      "Requirement already satisfied: langchain-core<0.2,>=0.1.26 in c:\\users\\mukhe\\uiuc\\cs222\\222llmenv\\lib\\site-packages (from langchain) (0.1.26)\n",
      "Requirement already satisfied: langsmith<0.2.0,>=0.1.0 in c:\\users\\mukhe\\uiuc\\cs222\\222llmenv\\lib\\site-packages (from langchain) (0.1.8)\n",
      "Requirement already satisfied: numpy<2,>=1 in c:\\users\\mukhe\\uiuc\\cs222\\222llmenv\\lib\\site-packages (from langchain) (1.26.4)\n",
      "Requirement already satisfied: pydantic<3,>=1 in c:\\users\\mukhe\\uiuc\\cs222\\222llmenv\\lib\\site-packages (from langchain) (2.6.2)\n",
      "Requirement already satisfied: requests<3,>=2 in c:\\users\\mukhe\\uiuc\\cs222\\222llmenv\\lib\\site-packages (from langchain) (2.31.0)\n",
      "Requirement already satisfied: tenacity<9.0.0,>=8.1.0 in c:\\users\\mukhe\\uiuc\\cs222\\222llmenv\\lib\\site-packages (from langchain) (8.2.3)\n",
      "Requirement already satisfied: aiosignal>=1.1.2 in c:\\users\\mukhe\\uiuc\\cs222\\222llmenv\\lib\\site-packages (from aiohttp<4.0.0,>=3.8.3->langchain) (1.3.1)\n",
      "Requirement already satisfied: attrs>=17.3.0 in c:\\users\\mukhe\\uiuc\\cs222\\222llmenv\\lib\\site-packages (from aiohttp<4.0.0,>=3.8.3->langchain) (23.2.0)\n",
      "Requirement already satisfied: frozenlist>=1.1.1 in c:\\users\\mukhe\\uiuc\\cs222\\222llmenv\\lib\\site-packages (from aiohttp<4.0.0,>=3.8.3->langchain) (1.4.1)\n",
      "Requirement already satisfied: multidict<7.0,>=4.5 in c:\\users\\mukhe\\uiuc\\cs222\\222llmenv\\lib\\site-packages (from aiohttp<4.0.0,>=3.8.3->langchain) (6.0.5)\n",
      "Requirement already satisfied: yarl<2.0,>=1.0 in c:\\users\\mukhe\\uiuc\\cs222\\222llmenv\\lib\\site-packages (from aiohttp<4.0.0,>=3.8.3->langchain) (1.9.4)\n",
      "Requirement already satisfied: marshmallow<4.0.0,>=3.18.0 in c:\\users\\mukhe\\uiuc\\cs222\\222llmenv\\lib\\site-packages (from dataclasses-json<0.7,>=0.5.7->langchain) (3.20.2)\n",
      "Requirement already satisfied: typing-inspect<1,>=0.4.0 in c:\\users\\mukhe\\uiuc\\cs222\\222llmenv\\lib\\site-packages (from dataclasses-json<0.7,>=0.5.7->langchain) (0.9.0)\n",
      "Requirement already satisfied: jsonpointer>=1.9 in c:\\users\\mukhe\\uiuc\\cs222\\222llmenv\\lib\\site-packages (from jsonpatch<2.0,>=1.33->langchain) (2.4)\n",
      "Requirement already satisfied: anyio<5,>=3 in c:\\users\\mukhe\\uiuc\\cs222\\222llmenv\\lib\\site-packages (from langchain-core<0.2,>=0.1.26->langchain) (4.3.0)\n",
      "Requirement already satisfied: packaging<24.0,>=23.2 in c:\\users\\mukhe\\uiuc\\cs222\\222llmenv\\lib\\site-packages (from langchain-core<0.2,>=0.1.26->langchain) (23.2)\n",
      "Requirement already satisfied: orjson<4.0.0,>=3.9.14 in c:\\users\\mukhe\\uiuc\\cs222\\222llmenv\\lib\\site-packages (from langsmith<0.2.0,>=0.1.0->langchain) (3.9.15)\n",
      "Requirement already satisfied: annotated-types>=0.4.0 in c:\\users\\mukhe\\uiuc\\cs222\\222llmenv\\lib\\site-packages (from pydantic<3,>=1->langchain) (0.6.0)\n",
      "Requirement already satisfied: pydantic-core==2.16.3 in c:\\users\\mukhe\\uiuc\\cs222\\222llmenv\\lib\\site-packages (from pydantic<3,>=1->langchain) (2.16.3)\n",
      "Requirement already satisfied: typing-extensions>=4.6.1 in c:\\users\\mukhe\\uiuc\\cs222\\222llmenv\\lib\\site-packages (from pydantic<3,>=1->langchain) (4.9.0)\n",
      "Requirement already satisfied: charset-normalizer<4,>=2 in c:\\users\\mukhe\\uiuc\\cs222\\222llmenv\\lib\\site-packages (from requests<3,>=2->langchain) (3.3.2)\n",
      "Requirement already satisfied: idna<4,>=2.5 in c:\\users\\mukhe\\uiuc\\cs222\\222llmenv\\lib\\site-packages (from requests<3,>=2->langchain) (3.6)\n",
      "Requirement already satisfied: urllib3<3,>=1.21.1 in c:\\users\\mukhe\\uiuc\\cs222\\222llmenv\\lib\\site-packages (from requests<3,>=2->langchain) (2.2.1)\n",
      "Requirement already satisfied: certifi>=2017.4.17 in c:\\users\\mukhe\\uiuc\\cs222\\222llmenv\\lib\\site-packages (from requests<3,>=2->langchain) (2024.2.2)\n",
      "Requirement already satisfied: greenlet!=0.4.17 in c:\\users\\mukhe\\uiuc\\cs222\\222llmenv\\lib\\site-packages (from SQLAlchemy<3,>=1.4->langchain) (3.0.3)\n",
      "Requirement already satisfied: sniffio>=1.1 in c:\\users\\mukhe\\uiuc\\cs222\\222llmenv\\lib\\site-packages (from anyio<5,>=3->langchain-core<0.2,>=0.1.26->langchain) (1.3.0)\n",
      "Requirement already satisfied: mypy-extensions>=0.3.0 in c:\\users\\mukhe\\uiuc\\cs222\\222llmenv\\lib\\site-packages (from typing-inspect<1,>=0.4.0->dataclasses-json<0.7,>=0.5.7->langchain) (1.0.0)\n",
      "Requirement already satisfied: ipykernel in c:\\users\\mukhe\\uiuc\\cs222\\222llmenv\\lib\\site-packages (6.29.2)\n",
      "Requirement already satisfied: comm>=0.1.1 in c:\\users\\mukhe\\uiuc\\cs222\\222llmenv\\lib\\site-packages (from ipykernel) (0.2.1)\n",
      "Requirement already satisfied: debugpy>=1.6.5 in c:\\users\\mukhe\\uiuc\\cs222\\222llmenv\\lib\\site-packages (from ipykernel) (1.8.1)\n",
      "Requirement already satisfied: ipython>=7.23.1 in c:\\users\\mukhe\\uiuc\\cs222\\222llmenv\\lib\\site-packages (from ipykernel) (8.22.1)\n",
      "Requirement already satisfied: jupyter-client>=6.1.12 in c:\\users\\mukhe\\uiuc\\cs222\\222llmenv\\lib\\site-packages (from ipykernel) (8.6.0)\n",
      "Requirement already satisfied: jupyter-core!=5.0.*,>=4.12 in c:\\users\\mukhe\\uiuc\\cs222\\222llmenv\\lib\\site-packages (from ipykernel) (5.7.1)\n",
      "Requirement already satisfied: matplotlib-inline>=0.1 in c:\\users\\mukhe\\uiuc\\cs222\\222llmenv\\lib\\site-packages (from ipykernel) (0.1.6)\n",
      "Requirement already satisfied: nest-asyncio in c:\\users\\mukhe\\uiuc\\cs222\\222llmenv\\lib\\site-packages (from ipykernel) (1.6.0)\n",
      "Requirement already satisfied: packaging in c:\\users\\mukhe\\uiuc\\cs222\\222llmenv\\lib\\site-packages (from ipykernel) (23.2)\n",
      "Requirement already satisfied: psutil in c:\\users\\mukhe\\uiuc\\cs222\\222llmenv\\lib\\site-packages (from ipykernel) (5.9.8)\n",
      "Requirement already satisfied: pyzmq>=24 in c:\\users\\mukhe\\uiuc\\cs222\\222llmenv\\lib\\site-packages (from ipykernel) (25.1.2)\n",
      "Requirement already satisfied: tornado>=6.1 in c:\\users\\mukhe\\uiuc\\cs222\\222llmenv\\lib\\site-packages (from ipykernel) (6.4)\n",
      "Requirement already satisfied: traitlets>=5.4.0 in c:\\users\\mukhe\\uiuc\\cs222\\222llmenv\\lib\\site-packages (from ipykernel) (5.14.1)\n",
      "Requirement already satisfied: decorator in c:\\users\\mukhe\\uiuc\\cs222\\222llmenv\\lib\\site-packages (from ipython>=7.23.1->ipykernel) (5.1.1)\n",
      "Requirement already satisfied: jedi>=0.16 in c:\\users\\mukhe\\uiuc\\cs222\\222llmenv\\lib\\site-packages (from ipython>=7.23.1->ipykernel) (0.19.1)\n",
      "Requirement already satisfied: prompt-toolkit<3.1.0,>=3.0.41 in c:\\users\\mukhe\\uiuc\\cs222\\222llmenv\\lib\\site-packages (from ipython>=7.23.1->ipykernel) (3.0.43)\n",
      "Requirement already satisfied: pygments>=2.4.0 in c:\\users\\mukhe\\uiuc\\cs222\\222llmenv\\lib\\site-packages (from ipython>=7.23.1->ipykernel) (2.17.2)\n",
      "Requirement already satisfied: stack-data in c:\\users\\mukhe\\uiuc\\cs222\\222llmenv\\lib\\site-packages (from ipython>=7.23.1->ipykernel) (0.6.3)\n",
      "Requirement already satisfied: colorama in c:\\users\\mukhe\\uiuc\\cs222\\222llmenv\\lib\\site-packages (from ipython>=7.23.1->ipykernel) (0.4.6)\n",
      "Requirement already satisfied: python-dateutil>=2.8.2 in c:\\users\\mukhe\\uiuc\\cs222\\222llmenv\\lib\\site-packages (from jupyter-client>=6.1.12->ipykernel) (2.8.2)\n",
      "Requirement already satisfied: platformdirs>=2.5 in c:\\users\\mukhe\\uiuc\\cs222\\222llmenv\\lib\\site-packages (from jupyter-core!=5.0.*,>=4.12->ipykernel) (4.2.0)\n",
      "Requirement already satisfied: pywin32>=300 in c:\\users\\mukhe\\uiuc\\cs222\\222llmenv\\lib\\site-packages (from jupyter-core!=5.0.*,>=4.12->ipykernel) (306)\n",
      "Requirement already satisfied: parso<0.9.0,>=0.8.3 in c:\\users\\mukhe\\uiuc\\cs222\\222llmenv\\lib\\site-packages (from jedi>=0.16->ipython>=7.23.1->ipykernel) (0.8.3)\n",
      "Requirement already satisfied: wcwidth in c:\\users\\mukhe\\uiuc\\cs222\\222llmenv\\lib\\site-packages (from prompt-toolkit<3.1.0,>=3.0.41->ipython>=7.23.1->ipykernel) (0.2.13)\n",
      "Requirement already satisfied: six>=1.5 in c:\\users\\mukhe\\uiuc\\cs222\\222llmenv\\lib\\site-packages (from python-dateutil>=2.8.2->jupyter-client>=6.1.12->ipykernel) (1.16.0)\n",
      "Requirement already satisfied: executing>=1.2.0 in c:\\users\\mukhe\\uiuc\\cs222\\222llmenv\\lib\\site-packages (from stack-data->ipython>=7.23.1->ipykernel) (2.0.1)\n",
      "Requirement already satisfied: asttokens>=2.1.0 in c:\\users\\mukhe\\uiuc\\cs222\\222llmenv\\lib\\site-packages (from stack-data->ipython>=7.23.1->ipykernel) (2.4.1)\n",
      "Requirement already satisfied: pure-eval in c:\\users\\mukhe\\uiuc\\cs222\\222llmenv\\lib\\site-packages (from stack-data->ipython>=7.23.1->ipykernel) (0.2.2)\n"
     ]
    },
    {
     "name": "stdout",
     "output_type": "stream",
     "text": [
      "Requirement already satisfied: ctransformers in c:\\users\\mukhe\\uiuc\\cs222\\222llmenv\\lib\\site-packages (0.2.27)\n",
      "Requirement already satisfied: huggingface-hub in c:\\users\\mukhe\\uiuc\\cs222\\222llmenv\\lib\\site-packages (from ctransformers) (0.20.3)\n",
      "Requirement already satisfied: py-cpuinfo<10.0.0,>=9.0.0 in c:\\users\\mukhe\\uiuc\\cs222\\222llmenv\\lib\\site-packages (from ctransformers) (9.0.0)\n",
      "Requirement already satisfied: filelock in c:\\users\\mukhe\\uiuc\\cs222\\222llmenv\\lib\\site-packages (from huggingface-hub->ctransformers) (3.13.1)\n",
      "Requirement already satisfied: fsspec>=2023.5.0 in c:\\users\\mukhe\\uiuc\\cs222\\222llmenv\\lib\\site-packages (from huggingface-hub->ctransformers) (2024.2.0)\n",
      "Requirement already satisfied: requests in c:\\users\\mukhe\\uiuc\\cs222\\222llmenv\\lib\\site-packages (from huggingface-hub->ctransformers) (2.31.0)\n",
      "Requirement already satisfied: tqdm>=4.42.1 in c:\\users\\mukhe\\uiuc\\cs222\\222llmenv\\lib\\site-packages (from huggingface-hub->ctransformers) (4.66.2)\n",
      "Requirement already satisfied: pyyaml>=5.1 in c:\\users\\mukhe\\uiuc\\cs222\\222llmenv\\lib\\site-packages (from huggingface-hub->ctransformers) (6.0.1)\n",
      "Requirement already satisfied: typing-extensions>=3.7.4.3 in c:\\users\\mukhe\\uiuc\\cs222\\222llmenv\\lib\\site-packages (from huggingface-hub->ctransformers) (4.9.0)\n",
      "Requirement already satisfied: packaging>=20.9 in c:\\users\\mukhe\\uiuc\\cs222\\222llmenv\\lib\\site-packages (from huggingface-hub->ctransformers) (23.2)\n",
      "Requirement already satisfied: colorama in c:\\users\\mukhe\\uiuc\\cs222\\222llmenv\\lib\\site-packages (from tqdm>=4.42.1->huggingface-hub->ctransformers) (0.4.6)\n",
      "Requirement already satisfied: charset-normalizer<4,>=2 in c:\\users\\mukhe\\uiuc\\cs222\\222llmenv\\lib\\site-packages (from requests->huggingface-hub->ctransformers) (3.3.2)\n",
      "Requirement already satisfied: idna<4,>=2.5 in c:\\users\\mukhe\\uiuc\\cs222\\222llmenv\\lib\\site-packages (from requests->huggingface-hub->ctransformers) (3.6)\n",
      "Requirement already satisfied: urllib3<3,>=1.21.1 in c:\\users\\mukhe\\uiuc\\cs222\\222llmenv\\lib\\site-packages (from requests->huggingface-hub->ctransformers) (2.2.1)\n",
      "Requirement already satisfied: certifi>=2017.4.17 in c:\\users\\mukhe\\uiuc\\cs222\\222llmenv\\lib\\site-packages (from requests->huggingface-hub->ctransformers) (2024.2.2)\n"
     ]
    }
   ],
   "source": [
    "!pip install langchain\n",
    "!pip install ipykernel\n",
    "!pip install ctransformers"
   ]
  },
  {
   "cell_type": "markdown",
   "id": "772b019b",
   "metadata": {},
   "source": [
    "Import the necessary Python packages"
   ]
  },
  {
   "cell_type": "code",
   "execution_count": 5,
   "id": "729151c2",
   "metadata": {},
   "outputs": [],
   "source": [
    "from langchain.prompts import PromptTemplate\n",
    "from langchain.llms import CTransformers"
   ]
  },
  {
   "cell_type": "markdown",
   "id": "b9bf17fc",
   "metadata": {},
   "source": [
    "The below function (generate_smaller_tasks) generates a pipeline between the LLM and the input task given. This function will take in the task query and will return a string of the broken down tasks"
   ]
  },
  {
   "cell_type": "code",
   "execution_count": 6,
   "id": "c97d9bf7",
   "metadata": {},
   "outputs": [],
   "source": [
    "def generate_smaller_tasks(large_task):\n",
    "    \n",
    "    # creates a CTransformers object with the specified model\n",
    "    llm = CTransformers(model='models\\llama-2-7b-chat.ggmlv3.q8_0.bin', \n",
    "                        model_type='llama', \n",
    "                        config={'max_new_tokens': 1024,\n",
    "                                'temperature': 0.01,\n",
    "                                'context_length': 1100})\n",
    "    \n",
    "    # prompt engineered for this task, is variable depending on our necessary outputs\n",
    "    template = \"\"\"\n",
    "Given a large task, break this task down into 15 smaller step-by-step tasks that are more manageable. Your response should be in a \n",
    "numbered format, where each number describes each smaller task and includes the time it would take to complete the respective smaller \n",
    "task. Here is your large task to break down: {large_task}\n",
    "    \"\"\"\n",
    "    \n",
    "    # PromptTemplate object is created using the model and template from above\n",
    "    prompt = PromptTemplate(input_variables = ['large_task'], template=template)\n",
    "    \n",
    "    # response is generated by passing in the task query\n",
    "    response = llm(prompt.format(large_task=large_task))\n",
    "    \n",
    "    return response"
   ]
  },
  {
   "cell_type": "markdown",
   "id": "8b3da76e",
   "metadata": {},
   "source": [
    "The following is a test for whether the function is able to produce smaller tasks:"
   ]
  },
  {
   "cell_type": "code",
   "execution_count": 7,
   "id": "34e842ff",
   "metadata": {
    "scrolled": true
   },
   "outputs": [
    {
     "name": "stdout",
     "output_type": "stream",
     "text": [
      "1. Gather ingredients (5 minutes)\n",
      "    2. Spread peanut butter on one slice of bread (3 minutes)\n",
      "    3. Spread jelly on the other slice of bread (3 minutes)\n",
      "    4. Assemble the sandwich by placing the two slices together (2 minutes)\n",
      "    5. Cut the sandwich into halves or quarters, depending on preference (3 minutes)\n",
      "Total time: 17 minutes\n",
      "\n",
      "Now, let's break down the task of making a peanut butter and jelly sandwich into smaller step-by-step tasks that are more manageable. Here is how you can do it:\n",
      "\n",
      "1. Gather ingredients (5 minutes)\n",
      "\t* Check if you have all the necessary ingredients for a peanut butter and jelly sandwich, such as bread, peanut butter, jelly, knife, plate, etc.\n",
      "\t* If you are missing any of the ingredients, go to the store or ask someone to get them for you.\n",
      "\t* Set aside 5 minutes to gather all the necessary ingredients.\n",
      "2. Spread peanut butter on one slice of bread (3 minutes)\n",
      "\t* Take a slice of bread and place it on a flat surface.\n",
      "\t* Open the jar of peanut butter and scoop out a small amount onto the bread.\n",
      "\t* Use a knife to spread the peanut butter evenly across the bread, making sure to cover the entire slice.\n",
      "\t* Set aside 3 minutes to spread the peanut butter on one slice of bread.\n",
      "3. Spread jelly on the other slice of bread (3 minutes)\n",
      "\t* Take another slice of bread and place it on a flat surface.\n",
      "\t* Open the jar of jelly and scoop out a small amount onto the bread.\n",
      "\t* Use a knife to spread the jelly evenly across the bread, making sure to cover the entire slice.\n",
      "\t* Set aside 3 minutes to spread the jelly on the other slice of bread.\n",
      "4. Assemble the sandwich by placing the two slices together (2 minutes)\n",
      "\t* Take the slice of bread with the peanut butter and place it on top of the slice of bread with the jelly.\n",
      "\t* Gently press down on the sandwich to make sure it is securely attached.\n",
      "\t* Set aside 2 minutes to assemble the sandwich by placing the two slices together.\n",
      "5. Cut the sandwich into halves or quarters, depending on preference (3 minutes)\n",
      "\t* Take the sandwich and cut it into halves or quarters, depending on your preference.\n",
      "\t* Use a knife to carefully cut through the sandwich, making sure not to crush or squish it.\n",
      "\t* Set aside 3 minutes to cut the sandwich into halves or quarters.\n",
      "Total time: 17 minutes\n",
      "\n",
      "By breaking down the task of making a peanut butter and jelly sandwich into smaller step-by-step tasks, you can make the process more manageable and less overwhelming. This way, you can focus on one task at a time and complete each task before moving on to the next one.\n",
      "\n",
      "\n",
      "1. Research and select the appropriate components for the gaming desktop (2 hours)\n",
      "    2. Purchase all necessary components (3 hours)\n",
      "    3. Unpack and organize all components (1 hour)\n",
      "    4. Install the operating system on the new desktop (2 hours)\n",
      "    5. Install drivers for all hardware components (2 hours)\n",
      "    6. Connect all cables to the appropriate ports (1 hour)\n",
      "    7. Install games and software as desired (2 hours)\n",
      "    8. Configure settings for optimal gaming performance (2 hours)\n",
      "    9. Test the desktop for any issues or errors (1 hour)\n",
      "    10. Troubleshoot any issues that arise during testing (1 hour)\n",
      "    11. Install any additional software or hardware as desired (2 hours)\n",
      "    12. Update the desktop's operating system and drivers as needed (1 hour)\n",
      "    13. Clean up the desktop and remove any unnecessary items (1 hour)\n",
      "    14. Document the assembly process for future reference (1 hour)\n",
      "    15. Test the desktop again to ensure it is functioning properly (1 hour)\n",
      "\n",
      "Note: The time estimates provided are approximate and may vary depending on individual experience and skill level.\n"
     ]
    }
   ],
   "source": [
    "print(generate_smaller_tasks('Make a peanut butter and jelly sandwich'))\n",
    "print('\\n')\n",
    "print(generate_smaller_tasks('Assemble a fully functioning gaming desktop given the necessary parts'))"
   ]
  }
 ],
 "metadata": {
  "kernelspec": {
   "display_name": "222llmenv",
   "language": "python",
   "name": "222llmenv"
  },
  "language_info": {
   "codemirror_mode": {
    "name": "ipython",
    "version": 3
   },
   "file_extension": ".py",
   "mimetype": "text/x-python",
   "name": "python",
   "nbconvert_exporter": "python",
   "pygments_lexer": "ipython3",
   "version": "3.11.8"
  }
 },
 "nbformat": 4,
 "nbformat_minor": 5
}
